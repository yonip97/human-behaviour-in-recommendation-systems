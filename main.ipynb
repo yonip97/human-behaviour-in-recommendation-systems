{
 "cells": [
  {
   "cell_type": "markdown",
   "source": [
    "# Final Project - Advanced Topics in Computer Science 8\n",
    "Yehonatan Peisakhovsky yehonatan-pe@campus.technion.ac.il ?????????\n",
    "Ido Zuckerman ido.z@campus.technion.ac.il 323102830"
   ],
   "metadata": {
    "collapsed": false
   }
  },
  {
   "cell_type": "markdown",
   "source": [
    "## Topic\n",
    "Strategic classification, specifically the behavior of strategic suppliers in information retrieval."
   ],
   "metadata": {
    "collapsed": false
   }
  },
  {
   "cell_type": "markdown",
   "source": [
    "## Introduction\n",
    "In the domain of information retrieval, which is closely related to recommendation systems, the objective of the information retrieval system is to retrieve relevant information from a large collection of data in response to a user's query. It does so by finding the documents with the highest probability of being relevant to the user’s query.\n",
    "But the objective of the content creators, the ones who are creating the data, is to get as many people as possible to read their content (like news sites), buy products from them (like amazon, eBay and etc.) or to expose visitors to advertisement on the site. For all those reasons, content creators objective is to get people to chose their document to consume.\n",
    "Because content creators want the highest exposure (as it usually translates to more users consuming their data), they would want to be ranked as high as possible to as many queries as possible. So, content creators might change their content, to be ranked higher and receive higher exposure, even if the changes are superficial and meant only for the benefit of higher ratings.\n",
    "And because not all queries carry the same value (for example, a user searching for a new phone carries much more value to an Ecommerce site than a user searching for bottle water), then content creators might want to tailor their data to fit best to the higher value queries.\n",
    "In our work, we chose to explore how such strategic behavior of the content creators affects the overall performance of the information retrieval system, and the affect of the strategic behavior of the content creators on their revenue.\n"
   ],
   "metadata": {
    "collapsed": false
   },
   "outputs": [
    {
     "name": "stdout",
     "output_type": "stream",
     "text": [
      "Object `???` not found.\n"
     ]
    }
   ],
   "execution_count": 1
  },
  {
   "cell_type": "markdown",
   "source": [
    "## Research Question\n",
    "How does strategic behavior of content creators affect system integrity?\n",
    "How does strategic behavior of content creators affect their revenue?\n"
   ],
   "metadata": {
    "collapsed": false
   }
  },
  {
   "cell_type": "markdown",
   "source": [
    "## Assumptions\n",
    "Our assumptions are:\n",
    "1.\tDifferent information retrieval systems will show different behavior exposed to\n",
    "2.\tUsing strategic behavior will lead to decreased performance of the information retrieval system.\n",
    "3.\tStrategic behavior of content creators will lead to an increase in their revenue only to a certain point, meaning if there are too many strategic agents, strategic behavior might not add additional revenue.\n",
    "\n"
   ],
   "metadata": {
    "collapsed": false
   }
  },
  {
   "cell_type": "markdown",
   "source": [
    "## Methods and Experiments\n",
    "????? (expiremnts and metrics)"
   ],
   "metadata": {
    "collapsed": false
   }
  },
  {
   "cell_type": "markdown",
   "source": [
    "## Results"
   ],
   "metadata": {
    "collapsed": false
   }
  },
  {
   "cell_type": "code",
   "execution_count": null,
   "outputs": [],
   "source": [
    "from enviorment import Env\n",
    "from utils import *\n",
    "from sklearn.model_selection import KFold\n",
    "from sklearn.metrics import ndcg_score\n",
    "from tqdm import tqdm\n",
    "import random\n",
    "from collections import defaultdict\n",
    "import matplotlib.pyplot as plt\n",
    "\n",
    "nltk.download('stopwords')"
   ],
   "metadata": {
    "collapsed": false,
    "pycharm": {
     "is_executing": true
    }
   }
  },
  {
   "cell_type": "markdown",
   "source": [
    "#### Hyperparameters"
   ],
   "metadata": {
    "collapsed": false
   }
  },
  {
   "cell_type": "code",
   "execution_count": null,
   "outputs": [],
   "source": [
    "amount_of_queries = 50\n",
    "k = 5\n",
    "Epochs = 3"
   ],
   "metadata": {
    "collapsed": false
   }
  },
  {
   "cell_type": "markdown",
   "source": [
    "#### Preprocess"
   ],
   "metadata": {
    "collapsed": false
   }
  },
  {
   "cell_type": "code",
   "execution_count": null,
   "outputs": [],
   "source": [
    "docs, queries, rel = create_documents_queries_and_relevence()\n",
    "queries_with_relevant_docs = list(rel.keys())\n",
    "queries = {k: queries[k] for k in queries_with_relevant_docs}\n",
    "docs, queries = preprocess_data(docs, queries)"
   ],
   "metadata": {
    "collapsed": false
   }
  },
  {
   "cell_type": "markdown",
   "source": [
    "# Temp Experiments"
   ],
   "metadata": {
    "collapsed": false
   }
  },
  {
   "cell_type": "code",
   "execution_count": null,
   "outputs": [],
   "source": [
    "def run_exp(strategic_per_nums, number_of_word_to_add_nums, model, k=4, strategy=\"top_k_softmax\"):\n",
    "    agents_params = {\"strategy\": strategy, \"k\": k, \"t\": 100}\n",
    "    print(f\"\\nModel: {model}\\tstrategic_per: {strategic_per_nums}\\tnumber_of_word_to_add: {number_of_word_to_add_nums}\"\n",
    "          f\"\\tstrategy: {strategy}\\tk: {k}\")\n",
    "    # Preprocess\n",
    "    docs, queries, rel = create_documents_queries_and_relevence()\n",
    "    queries_with_relevant_docs = list(rel.keys())\n",
    "    queries = {k: queries[k] for k in queries_with_relevant_docs}\n",
    "    docs, queries = preprocess_data(docs, queries)\n",
    "\n",
    "\n",
    "    # Chosen queries to work with and do cross validation\n",
    "    chosen_queries = [x for x in queries.keys()][:amount_of_queries]\n",
    "    cv = KFold(5)\n",
    "    undisturbed_ndcgs = defaultdict(float)\n",
    "    disturbed_ndcgs = defaultdict(float)\n",
    "    agents_values = defaultdict(float)\n",
    "    for strategic_per in tqdm(strategic_per_nums):\n",
    "        for number_of_word_to_add in number_of_word_to_add_nums:\n",
    "            # original ndcg without changing the documents\n",
    "            undisturbed_ndcg = []\n",
    "            # Ndcg after the change\n",
    "            disturbed_ndcg = []\n",
    "            agents_value = []\n",
    "            for train_indices, test_indices in cv.split(chosen_queries):\n",
    "                # The ids of the queries used to train,\n",
    "                # they actually matter just when using rank svm\n",
    "                train_queries_ids = [chosen_queries[x] for x in train_indices]\n",
    "                # The ids of the queries used to test the model\n",
    "                test_queries_ids = [chosen_queries[x] for x in test_indices]\n",
    "                train_queries = {k: queries[k] for k in train_queries_ids}\n",
    "                train_rel = {k: rel[k] for k in train_queries_ids}\n",
    "                test_queries = {k: queries[k] for k in test_queries_ids}\n",
    "                test_rel = {k: rel[k] for k in test_queries_ids}\n",
    "                # Assigns random values to the queries, we can change seed\n",
    "                queries_worth = create_queries_worth(test_queries)\n",
    "                # Environment initialization\n",
    "                environment = Env(docs=docs, strategic_percentage=strategic_per, model_type=model,\n",
    "                                  number_of_word_to_add=number_of_word_to_add, train_queries=train_queries,\n",
    "                                  train_relevance_ranking=train_rel, seed=10, agents_params=agents_params)\n",
    "                # Epochs represents the amount of time we change which agents are chosen to\n",
    "                # be strategic. We need to talk about how they are chosen, because now they are random\n",
    "                # meaning if we run too many epochs then the ndcg with or without corruption will\n",
    "                # be the same (because sometimes strategic agents are relevant and pushed up, sometimes\n",
    "                # not relevant are pushed up.\n",
    "                for i in range(Epochs):\n",
    "                    environment.change_config()\n",
    "                    # Scores of unchanged documents and real ndcg\n",
    "                    queries_scores = environment.run(test_queries)\n",
    "                    strategic_agents_value_pre_change = environment.calculate_strategic_revenue(test_queries,queries_worth)\n",
    "                    for query_id, scores in queries_scores.items():\n",
    "                        gt = np.array([[1 if i in test_rel[query_id] else 0 for i in docs.keys()]])\n",
    "                        undisturbed_ndcg.append(ndcg_score(gt, scores))\n",
    "                    # Makes strategic agents change their documents\n",
    "                    environment.corrupt(test_queries, queries_worth)\n",
    "                    # Scores after documents change\n",
    "                    queries_scores = environment.run(test_queries)\n",
    "                    strategic_agents_value_post_change = environment.calculate_strategic_revenue(test_queries,queries_worth)\n",
    "                    agents_value.append(strategic_agents_value_post_change/strategic_agents_value_pre_change)\n",
    "                    for query_id, scores in queries_scores.items():\n",
    "                        gt = np.array([[1 if i in test_rel[query_id] else 0 for i in docs.keys()]])\n",
    "                        disturbed_ndcg.append(ndcg_score(gt, scores))\n",
    "            # print(f\"Undisturbed ndcg {np.mean(undisturbed_ndcg):.4f}\")\n",
    "            # print(f\"Disturbed ndcg {np.mean(disturbed_ndcg):.4f}\")\n",
    "            undisturbed_ndcgs[(strategic_per, number_of_word_to_add)] = np.mean(undisturbed_ndcg)\n",
    "            disturbed_ndcgs[(strategic_per, number_of_word_to_add)] = np.mean(disturbed_ndcg)\n",
    "            agents_values[(strategic_per, number_of_word_to_add)] = np.mean(agents_value)\n",
    "    ax = plt.axes(projection='3d')\n",
    "\n",
    "    # Data for three-dimensional scattered points\n",
    "    keys = np.array([[x, y, value] for (x, y), value in disturbed_ndcgs.items()])\n",
    "    zdata = keys[:, 2]\n",
    "    xdata = keys[:, 0]\n",
    "    ydata = keys[:, 1]\n",
    "    ax.scatter3D(xdata, ydata, zdata, c=zdata, cmap='Greens')\n",
    "    ax.dist = 13\n",
    "\n",
    "    ax.set_xlabel(\"Strategic Percentage\")\n",
    "    ax.set_ylabel(\"Number of Word Added\")\n",
    "    ax.set_zlabel(\"Value\")\n",
    "    ax.set_title(f\"Model: {model}\")\n",
    "    plt.show()\n",
    "\n",
    "    keys = np.array([[x, y, value] for (x, y), value in agents_values.items()])\n",
    "    zdata = keys[:, 2]\n",
    "    xdata = keys[:, 0]\n",
    "    ydata = keys[:, 1]\n",
    "    ax.scatter3D(xdata, ydata, zdata, c=zdata, cmap='Greens')\n",
    "    ax.dist = 13\n",
    "\n",
    "    ax.set_xlabel(\"Strategic Percentage\")\n",
    "    ax.set_ylabel(\"Number of Word Added\")\n",
    "    ax.set_zlabel(\"Agent Value\")\n",
    "    ax.set_title(f\"Model: {model}\")\n",
    "    plt.show()"
   ],
   "metadata": {
    "collapsed": false
   }
  },
  {
   "cell_type": "code",
   "execution_count": null,
   "outputs": [],
   "source": [
    "run_exp(np.arange(0, 1, 0.2), range(1, 10000, 2000), \"tf_idf\", strategy=\"dominant_word_not_present\")"
   ],
   "metadata": {
    "collapsed": false
   }
  },
  {
   "cell_type": "code",
   "execution_count": null,
   "outputs": [],
   "source": [
    "run_exp(np.arange(0, 1, 0.2), range(1, 10000, 2000), \"okapi_bm25\", strategy=\"dominant_word_not_present\")"
   ],
   "metadata": {
    "collapsed": false
   }
  },
  {
   "cell_type": "code",
   "execution_count": null,
   "outputs": [],
   "source": [
    "for k in range(1, 5):\n",
    "    run_exp(np.arange(0, 1, 0.2), range(1, 10000, 2000), \"tf_idf\", k=k, strategy=\"top_k_softmax\")"
   ],
   "metadata": {
    "collapsed": false,
    "pycharm": {
     "is_executing": true
    }
   }
  },
  {
   "cell_type": "code",
   "execution_count": null,
   "outputs": [],
   "source": [
    "run_exp(np.arange(0, 1, 0.2), range(1, 10000, 2000), \"tf_idf\")"
   ],
   "metadata": {
    "collapsed": false,
    "pycharm": {
     "is_executing": true
    }
   }
  },
  {
   "cell_type": "code",
   "execution_count": null,
   "outputs": [],
   "source": [
    "run_exp(np.arange(0, 1, 0.2), range(1, 10000, 2000), \"rank_svm\")"
   ],
   "metadata": {
    "collapsed": false,
    "pycharm": {
     "is_executing": true
    }
   }
  },
  {
   "cell_type": "code",
   "execution_count": null,
   "outputs": [],
   "source": [
    "run_exp(np.arange(0, 1, 0.1), range(1, 10000, 1000), \"okapi_bm25\")\n",
    "run_exp(np.arange(0, 1, 0.1), range(1, 10000, 1000), \"tf_idf\")\n",
    "run_exp(np.arange(0, 1, 0.1), range(1, 10000, 1000), \"rank_svm\")"
   ],
   "metadata": {
    "collapsed": false,
    "pycharm": {
     "is_executing": true
    }
   }
  },
  {
   "cell_type": "markdown",
   "source": [
    "## Discussion\n",
    "?????"
   ],
   "metadata": {
    "collapsed": false
   }
  },
  {
   "cell_type": "markdown",
   "source": [
    "## Limitations\n",
    "?????"
   ],
   "metadata": {
    "collapsed": false
   }
  }
 ],
 "metadata": {
  "kernelspec": {
   "display_name": "Python 3",
   "language": "python",
   "name": "python3"
  },
  "language_info": {
   "codemirror_mode": {
    "name": "ipython",
    "version": 2
   },
   "file_extension": ".py",
   "mimetype": "text/x-python",
   "name": "python",
   "nbconvert_exporter": "python",
   "pygments_lexer": "ipython2",
   "version": "2.7.6"
  }
 },
 "nbformat": 4,
 "nbformat_minor": 0
}
