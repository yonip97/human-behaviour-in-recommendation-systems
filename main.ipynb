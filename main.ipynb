{
 "cells": [
  {
   "cell_type": "markdown",
   "source": [
    "# Final Project - Advanced Topics in Computer Science 8\n",
    "Yehonatan Peisakhovsky yehonatan-pe@campus.technion.ac.il ?????????\n",
    "Ido Zuckerman ido.z@campus.technion.ac.il 323102830"
   ],
   "metadata": {
    "collapsed": false
   }
  },
  {
   "cell_type": "markdown",
   "source": [
    "## Topic\n",
    "?????"
   ],
   "metadata": {
    "collapsed": false
   }
  },
  {
   "cell_type": "markdown",
   "source": [
    "## Introduction\n",
    "?????"
   ],
   "metadata": {
    "collapsed": false
   },
   "outputs": [
    {
     "name": "stdout",
     "output_type": "stream",
     "text": [
      "Object `???` not found.\n"
     ]
    }
   ],
   "execution_count": 1
  },
  {
   "cell_type": "markdown",
   "source": [
    "## Research Question\n",
    "?????"
   ],
   "metadata": {
    "collapsed": false
   }
  },
  {
   "cell_type": "markdown",
   "source": [
    "## Assumptions\n",
    "?????\n"
   ],
   "metadata": {
    "collapsed": false
   }
  },
  {
   "cell_type": "markdown",
   "source": [
    "## Methods and Experiments\n",
    "????? (expiremnts and metrics)"
   ],
   "metadata": {
    "collapsed": false
   }
  },
  {
   "cell_type": "markdown",
   "source": [
    "## Results"
   ],
   "metadata": {
    "collapsed": false
   }
  },
  {
   "cell_type": "code",
   "execution_count": null,
   "outputs": [],
   "source": [
    "# Imports\n",
    "from typing import List\n",
    "import numpy as np"
   ],
   "metadata": {
    "collapsed": false
   }
  },
  {
   "cell_type": "code",
   "execution_count": null,
   "outputs": [],
   "source": [
    "class agent:\n",
    "    def __init__(self, string: str, strategic: bool, number_of_word_to_add: int):\n",
    "        self.string = string\n",
    "        self.strategic = strategic\n",
    "        self.number_of_word_to_add = number_of_word_to_add\n",
    "\n",
    "    def create_strategy(self, queries: List[str], document: str):\n",
    "        \"\"\"Creates a strategy for the agent.\"\"\"\n",
    "        if not self.strategic:\n",
    "            return\n",
    "        self.string = self.add_words(queries, document)\n",
    "\n",
    "    def add_words(self, queries: List[str], document: str):\n",
    "        \"\"\"Returns the agent's string with the added words.\"\"\"\n",
    "        raise NotImplementedError"
   ],
   "metadata": {
    "collapsed": false
   }
  },
  {
   "cell_type": "code",
   "execution_count": null,
   "outputs": [],
   "source": [
    "class env:\n",
    "    def __init__(self, docs: dict, startegic_percentage: float, model_type: str, number_of_word_to_add: int):\n",
    "        self.agents = self.create_agents(docs, startegic_percentage, number_of_word_to_add)\n",
    "        self.model = self.create_model(model_type)\n",
    "\n",
    "    def create_agents(self, docs: dict, startegic_percentage: float, number_of_word_to_add: int):\n",
    "        \"\"\"Creates the agents.\"\"\"\n",
    "        agents = []\n",
    "        for i, value in enumerate(docs.values()):\n",
    "            if i < len(docs) * startegic_percentage:\n",
    "                agents.append(agent(value, True, number_of_word_to_add))\n",
    "            else:\n",
    "                agents.append(agent(value, False, number_of_word_to_add))\n",
    "        return agents\n",
    "\n",
    "    def create_model(self, model_type: str):\n",
    "        if model_type == \"okapi_bm25\":\n",
    "            return okapi_bm25()\n",
    "        elif model_type == \"tf_idf\":\n",
    "            return tf_idf()\n",
    "        elif model_type == \"rank_svm\":\n",
    "            return rank_svm()\n",
    "        else:\n",
    "            raise ValueError(\"model_type must be one of the following: okapi_bm25, tf_idf, rank_svm\")\n",
    "\n",
    "    def run(self, queries: List[str], document: str):\n",
    "        \"\"\"Runs the environment.\"\"\"\n",
    "        for agent in self.agents:\n",
    "            agent.create_strategy(queries, document)\n",
    "        return self.model.run(queries, document, self.agents)"
   ],
   "metadata": {
    "collapsed": false
   }
  },
  {
   "cell_type": "markdown",
   "source": [
    "### changing the percentage of strategic agents"
   ],
   "metadata": {
    "collapsed": false
   }
  },
  {
   "cell_type": "code",
   "execution_count": null,
   "outputs": [],
   "source": [
    "docs = ...\n",
    "\n",
    "for model in [\"okapi_bm25\", \"tf_idf\", \"rank_svm\"]:\n",
    "    for strategic_per in np.arange(0, 1.1, 0.1):\n",
    "        env = env(docs, strategic_per, model, number_of_word_to_add=5)"
   ],
   "metadata": {
    "collapsed": false
   }
  },
  {
   "cell_type": "markdown",
   "source": [
    "### changing the number of words to add"
   ],
   "metadata": {
    "collapsed": false
   }
  },
  {
   "cell_type": "code",
   "execution_count": null,
   "outputs": [],
   "source": [
    "for model in [\"okapi_bm25\", \"tf_idf\", \"rank_svm\"]:\n",
    "    for number_of_word_to_add in range(1, 11):\n",
    "        env = env(100, 0.5, model, number_of_word_to_add=number_of_word_to_add)"
   ],
   "metadata": {
    "collapsed": false
   }
  },
  {
   "cell_type": "markdown",
   "source": [
    "## Discussion\n",
    "?????"
   ],
   "metadata": {
    "collapsed": false
   }
  },
  {
   "cell_type": "markdown",
   "source": [
    "## Limitations\n",
    "?????"
   ],
   "metadata": {
    "collapsed": false
   }
  }
 ],
 "metadata": {
  "kernelspec": {
   "display_name": "Python 3",
   "language": "python",
   "name": "python3"
  },
  "language_info": {
   "codemirror_mode": {
    "name": "ipython",
    "version": 2
   },
   "file_extension": ".py",
   "mimetype": "text/x-python",
   "name": "python",
   "nbconvert_exporter": "python",
   "pygments_lexer": "ipython2",
   "version": "2.7.6"
  }
 },
 "nbformat": 4,
 "nbformat_minor": 0
}
