{
 "cells": [
  {
   "cell_type": "markdown",
   "source": [
    "# Final Project - Advanced Topics in Computer Science 8\n",
    "Yehonatan Peisakhovsky yehonatan-pe@campus.technion.ac.il ?????????\n",
    "Ido Zuckerman ido.z@campus.technion.ac.il 323102830"
   ],
   "metadata": {
    "collapsed": false,
    "pycharm": {
     "name": "#%% md\n"
    }
   }
  },
  {
   "cell_type": "markdown",
   "source": [
    "## Topic\n",
    "?????"
   ],
   "metadata": {
    "collapsed": false,
    "pycharm": {
     "name": "#%% md\n"
    }
   }
  },
  {
   "cell_type": "markdown",
   "source": [
    "## Introduction\n",
    "?????"
   ],
   "metadata": {
    "collapsed": false,
    "pycharm": {
     "name": "#%% md\n"
    }
   },
   "outputs": [
    {
     "name": "stdout",
     "output_type": "stream",
     "text": [
      "Object `???` not found.\n"
     ]
    }
   ],
   "execution_count": 1
  },
  {
   "cell_type": "markdown",
   "source": [
    "## Research Question\n",
    "?????"
   ],
   "metadata": {
    "collapsed": false,
    "pycharm": {
     "name": "#%% md\n"
    }
   }
  },
  {
   "cell_type": "markdown",
   "source": [
    "## Assumptions\n",
    "?????\n"
   ],
   "metadata": {
    "collapsed": false,
    "pycharm": {
     "name": "#%% md\n"
    }
   }
  },
  {
   "cell_type": "markdown",
   "source": [
    "## Methods and Experiments\n",
    "????? (expiremnts and metrics)"
   ],
   "metadata": {
    "collapsed": false,
    "pycharm": {
     "name": "#%% md\n"
    }
   }
  },
  {
   "cell_type": "markdown",
   "source": [
    "## Results"
   ],
   "metadata": {
    "collapsed": false,
    "pycharm": {
     "name": "#%% md\n"
    }
   }
  },
  {
   "cell_type": "code",
   "execution_count": null,
   "outputs": [],
   "source": [
    "from enviorment import Env\n",
    "from utils import *\n",
    "from sklearn.model_selection import KFold\n",
    "from sklearn.metrics import ndcg_score\n",
    "from tqdm import tqdm\n"
   ],
   "metadata": {
    "collapsed": false,
    "pycharm": {
     "name": "#%%\n"
    }
   }
  },
  {
   "cell_type": "markdown",
   "source": [
    "#### Hyperparameters"
   ],
   "metadata": {
    "collapsed": false,
    "pycharm": {
     "name": "#%% md\n"
    }
   }
  },
  {
   "cell_type": "code",
   "execution_count": null,
   "outputs": [],
   "source": [
    "amount_of_queries = 50\n",
    "k = 5\n",
    "Epochs = 3"
   ],
   "metadata": {
    "collapsed": false,
    "pycharm": {
     "name": "#%%\n"
    }
   }
  },
  {
   "cell_type": "markdown",
   "source": [
    "#### Preprocess"
   ],
   "metadata": {
    "collapsed": false,
    "pycharm": {
     "name": "#%% md\n"
    }
   }
  },
  {
   "cell_type": "code",
   "execution_count": null,
   "outputs": [],
   "source": [
    "docs, queries, rel = create_documents_queries_and_relevence()\n",
    "queries_with_relevant_docs = list(rel.keys())\n",
    "queries = {k: queries[k] for k in queries_with_relevant_docs}\n",
    "docs, queries = preprocess_data(docs, queries)"
   ],
   "metadata": {
    "collapsed": false,
    "pycharm": {
     "name": "#%%\n"
    }
   }
  },
  {
   "cell_type": "markdown",
   "source": [
    "#### Example"
   ],
   "metadata": {
    "collapsed": false,
    "pycharm": {
     "name": "#%% md\n"
    }
   }
  },
  {
   "cell_type": "code",
   "execution_count": null,
   "outputs": [],
   "source": [
    "# Chosen queries to work with and do cross validation\n",
    "chosen_queries = [x for x in queries.keys()][:amount_of_queries]\n",
    "cv = KFold(k)\n",
    "# original ndcg without changing the documents\n",
    "undisturbed_ndcg = []\n",
    "# Ndcg after the change\n",
    "disturbed_ndcg = []\n",
    "for train_indices, test_indices in tqdm(cv.split(chosen_queries)):\n",
    "        # The ids of the queries used to train,\n",
    "        # they actually matter just when using rank svm\n",
    "        train_queries_ids = [chosen_queries[x] for x in train_indices]\n",
    "        # The ids of the queries used to test the model\n",
    "        test_queries_ids = [chosen_queries[x] for x in test_indices]\n",
    "        train_queries = {k: queries[k] for k in train_queries_ids}\n",
    "        train_rel = {k: rel[k] for k in train_queries_ids}\n",
    "        test_queries = {k: queries[k] for k in test_queries_ids}\n",
    "        test_rel = {k: rel[k] for k in test_queries_ids}\n",
    "        # Assigns random values to the queries, we can change seed\n",
    "        queries_worth = create_queries_worth(test_queries)\n",
    "        # Environment initialization\n",
    "        environment = Env(docs = docs,strategic_percentage=0.1,model_type=\"tf_idf\",number_of_word_to_add=1000,train_queries=train_queries,train_relevance_ranking=train_rel,seed = 10)\n",
    "        # Epochs represents the amount of time we change which agents are chosen to\n",
    "        # be strategic. We need to talk about how they are chosen, because now they are random\n",
    "        # meaning if we run too many epochs then the ndcg with or without corruption will\n",
    "        # be the same (because sometimes strategic agents are relevant and pushed up, sometimes\n",
    "        # not relevant are pushed up.\n",
    "        for i in range(Epochs):\n",
    "            environment.change_config()\n",
    "            # Scores of unchanged documents and real ndcg\n",
    "            queries_scores = environment.run(test_queries)\n",
    "            for query_id, scores in queries_scores.items():\n",
    "                gt = np.array([[1 if i in test_rel[query_id] else 0 for i in docs.keys()]])\n",
    "                undisturbed_ndcg.append(ndcg_score(gt, scores))\n",
    "            # Makes strategic agents change their documents\n",
    "            environment.corrupt(test_queries, queries_worth)\n",
    "            # Scores after documents change\n",
    "            queries_scores = environment.run(test_queries)\n",
    "            for query_id, scores in queries_scores.items():\n",
    "                gt = np.array([[1 if i in test_rel[query_id] else 0 for i in docs.keys()]])\n",
    "                disturbed_ndcg.append(ndcg_score(gt, scores))"
   ],
   "metadata": {
    "collapsed": false,
    "pycharm": {
     "name": "#%%\n"
    }
   }
  },
  {
   "cell_type": "markdown",
   "source": [
    "### changing the percentage of strategic agents"
   ],
   "metadata": {
    "collapsed": false,
    "pycharm": {
     "name": "#%% md\n"
    }
   }
  },
  {
   "cell_type": "code",
   "execution_count": null,
   "outputs": [],
   "source": [
    "docs = ...\n",
    "\n",
    "for model in [\"okapi_bm25\", \"tf_idf\", \"rank_svm\"]:\n",
    "    for strategic_per in np.arange(0, 1.1, 0.1):\n",
    "        env = env(docs, strategic_per, model, number_of_word_to_add=5)"
   ],
   "metadata": {
    "collapsed": false,
    "pycharm": {
     "name": "#%%\n"
    }
   }
  },
  {
   "cell_type": "markdown",
   "source": [
    "### changing the number of words to add"
   ],
   "metadata": {
    "collapsed": false,
    "pycharm": {
     "name": "#%% md\n"
    }
   }
  },
  {
   "cell_type": "code",
   "execution_count": null,
   "outputs": [],
   "source": [
    "for model in [\"okapi_bm25\", \"tf_idf\", \"rank_svm\"]:\n",
    "    for number_of_word_to_add in range(1, 11):\n",
    "        env = env(100, 0.5, model, number_of_word_to_add=number_of_word_to_add)"
   ],
   "metadata": {
    "collapsed": false,
    "pycharm": {
     "name": "#%%\n"
    }
   }
  },
  {
   "cell_type": "markdown",
   "source": [
    "## Discussion\n",
    "?????"
   ],
   "metadata": {
    "collapsed": false,
    "pycharm": {
     "name": "#%% md\n"
    }
   }
  },
  {
   "cell_type": "markdown",
   "source": [
    "## Limitations\n",
    "?????"
   ],
   "metadata": {
    "collapsed": false,
    "pycharm": {
     "name": "#%% md\n"
    }
   }
  }
 ],
 "metadata": {
  "kernelspec": {
   "display_name": "Python 3",
   "language": "python",
   "name": "python3"
  },
  "language_info": {
   "codemirror_mode": {
    "name": "ipython",
    "version": 2
   },
   "file_extension": ".py",
   "mimetype": "text/x-python",
   "name": "python",
   "nbconvert_exporter": "python",
   "pygments_lexer": "ipython2",
   "version": "2.7.6"
  }
 },
 "nbformat": 4,
 "nbformat_minor": 0
}